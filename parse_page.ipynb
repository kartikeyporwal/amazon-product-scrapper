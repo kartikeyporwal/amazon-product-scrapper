{
 "metadata": {
  "language_info": {
   "codemirror_mode": {
    "name": "ipython",
    "version": 3
   },
   "file_extension": ".py",
   "mimetype": "text/x-python",
   "name": "python",
   "nbconvert_exporter": "python",
   "pygments_lexer": "ipython3",
   "version": "3.6.7-final"
  },
  "orig_nbformat": 2,
  "kernelspec": {
   "name": "python3",
   "display_name": "Python 3.6.7 64-bit ('test_env': conda)",
   "metadata": {
    "interpreter": {
     "hash": "7db2792355c7e77011f67fd6b7a89b46b14c9aa9241e5a22b74994e0141db99a"
    }
   }
  }
 },
 "nbformat": 4,
 "nbformat_minor": 2,
 "cells": [
  {
   "source": [
    "# Notebook to parse the webpage for experimentations "
   ],
   "cell_type": "markdown",
   "metadata": {}
  },
  {
   "cell_type": "code",
   "execution_count": 49,
   "metadata": {},
   "outputs": [],
   "source": [
    "import os\n",
    "import bs4\n"
   ]
  },
  {
   "cell_type": "code",
   "execution_count": 50,
   "metadata": {},
   "outputs": [],
   "source": [
    "file_path = r\"webpage.html\""
   ]
  },
  {
   "cell_type": "code",
   "execution_count": 51,
   "metadata": {},
   "outputs": [],
   "source": [
    "with open(file_path, encoding=\"UTF-8\") as f:\n",
    "    soup = bs4.BeautifulSoup(f, features=\"lxml\")"
   ]
  },
  {
   "cell_type": "code",
   "execution_count": 52,
   "metadata": {},
   "outputs": [],
   "source": [
    "class_found = soup.find(\"div\", class_=\"s-main-slot s-result-list s-search-results sg-row\")"
   ]
  },
  {
   "cell_type": "code",
   "execution_count": 53,
   "metadata": {},
   "outputs": [],
   "source": [
    "sponsored_products = class_found.find_all(\"div\", class_=\"sg-col-4-of-12 s-result-item s-asin sg-col-4-of-16 AdHolder sg-col sg-col-4-of-20\")"
   ]
  },
  {
   "cell_type": "code",
   "execution_count": 54,
   "metadata": {},
   "outputs": [
    {
     "output_type": "execute_result",
     "data": {
      "text/plain": [
       "12"
      ]
     },
     "metadata": {},
     "execution_count": 54
    }
   ],
   "source": [
    "len(sponsored_products)"
   ]
  },
  {
   "cell_type": "code",
   "execution_count": 55,
   "metadata": {},
   "outputs": [
    {
     "output_type": "execute_result",
     "data": {
      "text/plain": [
       "<div class=\"sg-col-4-of-12 s-result-item s-asin sg-col-4-of-16 AdHolder sg-col sg-col-4-of-20\" data-asin=\"B005JRGJ4A\" data-cel-widget=\"search_result_0\" data-component-id=\"8\" data-component-type=\"s-search-result\" data-index=\"0\" data-uuid=\"f3e2d4fd-9e42-4d80-bd91-bab09bc344bd\"><div class=\"sg-col-inner\">\n",
       "<span cel_widget_id=\"MAIN-SEARCH_RESULTS-0\" class=\"celwidget slot=MAIN template=SEARCH_RESULTS widgetId=search-results\" data-cel-widget=\"MAIN-SEARCH_RESULTS-0\" data-csa-c-id=\"mg44fv-fej644-jialcw-nuaxb7\">\n",
       "<div class=\"rush-component s-expand-height\" data-component-id=\"9\" data-component-props='{\"percentageShownToFire\":\"50\",\"batchable\":true,\"requiredElementSelector\":\".s-image\",\"url\":\"https://www.amazon.com/gp/sponsored-products/logging/log-action.html?qualifier=1608626878&amp;id=3988585463882682&amp;widgetName=sp_atf&amp;adId=200010383936851&amp;eventType=1&amp;adIndex=0\"}' data-component-type=\"s-impression-logger\">\n",
       "<div class=\"rush-component s-expand-height\" data-component-id=\"10\" data-component-type=\"sp-sponsored-result\">\n",
       "<div class=\"s-expand-height s-include-content-margin s-border-bottom s-latency-cf-section\">\n",
       "<div class=\"a-section a-spacing-medium\">\n",
       "<div class=\"a-section a-spacing-micro s-grid-status-badge-container\">\n",
       "</div>\n",
       "<span class=\"rush-component\" data-component-id=\"11\" data-component-type=\"s-product-image\">\n",
       "<a class=\"a-link-normal s-no-outline\" href=\"/gp/slredirect/picassoRedirect.html/ref=pa_sp_atf_aps_sr_pg1_1?ie=UTF8&amp;adId=A0008334260YKEQUY76BL&amp;url=%2FGerber-Good-Start-Non-GMO-Formula%2Fdp%2FB005JRGJ4A%2Fref%3Dsr_1_1_sspa%3Fdchild%3D1%26keywords%3Dbaby%2Bmilk%26qid%3D1608626878%26sr%3D8-1-spons%26psc%3D1&amp;qualifier=1608626878&amp;id=3988585463882682&amp;widgetName=sp_atf\">\n",
       "<div class=\"a-section aok-relative s-image-square-aspect\">\n",
       "<img alt=\"Sponsored Ad - Gerber Good Start GentlePro, Prebiotics, Non-GMO Ready to Feed Infant Formula Stage 1, 8.45 Ounces (Pack of...\" class=\"s-image\" data-image-index=\"0\" data-image-latency=\"s-product-image\" data-image-load=\"\" data-image-source-density=\"1\" src=\"https://m.media-amazon.com/images/I/81bFBG6UysL._AC_UL320_.jpg\" srcset=\"https://m.media-amazon.com/images/I/81bFBG6UysL._AC_UL320_.jpg 1x, https://m.media-amazon.com/images/I/81bFBG6UysL._AC_UL480_FMwebp_QL65_.jpg 1.5x, https://m.media-amazon.com/images/I/81bFBG6UysL._AC_UL640_FMwebp_QL65_.jpg 2x, https://m.media-amazon.com/images/I/81bFBG6UysL._AC_UL800_FMwebp_QL65_.jpg 2.5x, https://m.media-amazon.com/images/I/81bFBG6UysL._AC_UL960_FMwebp_QL65_.jpg 3x\"/>\n",
       "</div>\n",
       "</a>\n",
       "</span>\n",
       "<div class=\"a-section a-spacing-none a-spacing-top-small\">\n",
       "<div class=\"a-row a-spacing-micro\">\n",
       "<span class=\"a-declarative\" data-a-popover='{\"closeButton\":true,\"dataStrategy\":\"preload\",\"name\":\"sp-info-popover-B005JRGJ4A\",\"position\":\"triggerVertical\"}' data-action=\"a-popover\">\n",
       "<a aria-label=\"View Sponsored information or leave ad feedback\" class=\"s-label-popover\" href=\"javascript:void(0)\" role=\"button\" style=\"text-decoration: none;\">\n",
       "<span class=\"s-label-popover-default\">\n",
       "<span class=\"a-size-mini a-color-secondary\" dir=\"auto\">Sponsored</span>\n",
       "</span>\n",
       "<span class=\"s-label-popover-hover\">\n",
       "<span class=\"a-size-mini a-color-base\" dir=\"auto\">Sponsored</span>\n",
       "</span>\n",
       "<span class=\"aok-inline-block s-sponsored-label-info-icon\"></span>\n",
       "</a>\n",
       "</span>\n",
       "<div class=\"a-popover-preload\" id=\"a-popover-sp-info-popover-B005JRGJ4A\">\n",
       "<span dir=\"auto\">You’re seeing this ad based on the product’s relevance to your search query.</span><div class=\"a-row\">\n",
       "<span class=\"a-declarative\" data-action=\"s-safe-ajax-modal-trigger\" data-s-safe-ajax-modal-trigger='{\"ajaxUrl\":\"/gp/aq-feedback/lazyLoad/handler/af-sp-form-handler.html?pl=%7B%22adPlacementMetaData%22%3A%7B%22searchTerms%22%3A%22YmFieSBtaWxr%22%2C%22pageType%22%3A%22Search%22%2C%22feedbackType%22%3A%22sponsoredProductsLoom%22%2C%22slotName%22%3A%22TOP%22%7D%2C%22adCreativeMetaData%22%3A%7B%22adProgramId%22%3A1024%2C%22adCreativeDetails%22%3A%5B%7B%22asin%22%3A%22B005JRGJ4A%22%2C%22title%22%3A%22Gerber+Good+Start+GentlePro%2C+Prebiotics%2C+Non-GMO+Ready+to+Feed+Infant+Formula+Stage+1%2C+8.45+Ounces+%28%22%2C%22priceInfo%22%3A%7B%22amount%22%3A52.74%2C%22currencyCode%22%3A%22USD%22%7D%2C%22sku%22%3A%22B005JRGJ4A%22%2C%22adId%22%3A%22A0008334260YKEQUY76BL%22%2C%22campaignId%22%3A%22A02437182549TUWMWP3DE%22%7D%5D%7D%7D\",\"header\":\"Share your feedback\"}'>\n",
       "<a class=\"a-link-normal\" href=\"#\">\n",
       "<span dir=\"auto\">Leave ad feedback</span>\n",
       "</a>\n",
       "</span>\n",
       "</div>\n",
       "</div>\n",
       "</div>\n",
       "<h2 class=\"a-size-mini a-spacing-none a-color-base s-line-clamp-4\">\n",
       "<a class=\"a-link-normal a-text-normal\" href=\"/gp/slredirect/picassoRedirect.html/ref=pa_sp_atf_aps_sr_pg1_1?ie=UTF8&amp;adId=A0008334260YKEQUY76BL&amp;url=%2FGerber-Good-Start-Non-GMO-Formula%2Fdp%2FB005JRGJ4A%2Fref%3Dsr_1_1_sspa%3Fdchild%3D1%26keywords%3Dbaby%2Bmilk%26qid%3D1608626878%26sr%3D8-1-spons%26psc%3D1&amp;qualifier=1608626878&amp;id=3988585463882682&amp;widgetName=sp_atf\">\n",
       "<span class=\"a-size-base-plus a-color-base a-text-normal\" dir=\"auto\">Gerber Good Start GentlePro, Prebiotics, Non-GMO Ready to Feed Infant Formula Stage 1, 8.45 Ounces (Pack of 24)</span>\n",
       "</a>\n",
       "</h2>\n",
       "<div class=\"a-row a-size-base a-color-secondary\"><div class=\"a-row a-spacing-top-micro a-color-base\"><span class=\"a-color-information a-text-bold\" dir=\"auto\">8.5 Fl Oz (Pack of 24)</span></div></div>\n",
       "</div>\n",
       "<div class=\"a-section a-spacing-none a-spacing-top-micro\">\n",
       "<div class=\"a-row a-size-small\">\n",
       "<span aria-label=\"4.8 out of 5 stars\">\n",
       "<span class=\"a-declarative\" data-a-popover='{\"max-width\":\"700\",\"closeButton\":false,\"position\":\"triggerBottom\",\"url\":\"/review/widgets/average-customer-review/popover/ref=acr_search__popover?ie=UTF8&amp;asin=B005JRGJ4A&amp;ref=acr_search__popover&amp;contextId=search\"}' data-action=\"a-popover\">\n",
       "<a class=\"a-popover-trigger a-declarative\" href=\"javascript:void(0)\"><i class=\"a-icon a-icon-star-small a-star-small-5 aok-align-bottom\"><span class=\"a-icon-alt\">4.8 out of 5 stars</span></i><i class=\"a-icon a-icon-popover\"></i></a>\n",
       "</span>\n",
       "</span>\n",
       "<span aria-label=\"483\">\n",
       "<a class=\"a-link-normal\" href=\"/gp/slredirect/picassoRedirect.html/ref=pa_sp_atf_aps_sr_pg1_1?ie=UTF8&amp;adId=A0008334260YKEQUY76BL&amp;url=%2FGerber-Good-Start-Non-GMO-Formula%2Fdp%2FB005JRGJ4A%2Fref%3Dsr_1_1_sspa%3Fdchild%3D1%26keywords%3Dbaby%2Bmilk%26qid%3D1608626878%26sr%3D8-1-spons%26psc%3D1&amp;qualifier=1608626878&amp;id=3988585463882682&amp;widgetName=sp_atf#customerReviews\">\n",
       "<span class=\"a-size-base\" dir=\"auto\">483</span>\n",
       "</a>\n",
       "</span>\n",
       "</div>\n",
       "</div>\n",
       "<div class=\"a-section a-spacing-none a-spacing-top-small\">\n",
       "<div class=\"a-row a-size-base a-color-base\"><div class=\"a-row\"><div class=\"a-row\">\n",
       "<a class=\"a-size-base a-link-normal a-text-normal\" href=\"/gp/slredirect/picassoRedirect.html/ref=pa_sp_atf_aps_sr_pg1_1?ie=UTF8&amp;adId=A0008334260YKEQUY76BL&amp;url=%2FGerber-Good-Start-Non-GMO-Formula%2Fdp%2FB005JRGJ4A%2Fref%3Dsr_1_1_sspa%3Fdchild%3D1%26keywords%3Dbaby%2Bmilk%26qid%3D1608626878%26sr%3D8-1-spons%26psc%3D1&amp;qualifier=1608626878&amp;id=3988585463882682&amp;widgetName=sp_atf\">\n",
       "<span class=\"a-price\" data-a-color=\"base\" data-a-size=\"l\"><span class=\"a-offscreen\">$52.74</span><span aria-hidden=\"true\"><span class=\"a-price-symbol\">$</span><span class=\"a-price-whole\">52<span class=\"a-price-decimal\">.</span></span><span class=\"a-price-fraction\">74</span></span></span>\n",
       "<span class=\"a-size-base a-color-secondary\" dir=\"auto\">($0.26/Fl Oz)</span>\n",
       "</a>\n",
       "</div></div></div><div class=\"a-row a-size-small a-color-secondary\"><span dir=\"auto\">Save 5% more with Subscribe &amp; Save</span></div>\n",
       "</div>\n",
       "<div class=\"a-section a-spacing-none a-spacing-top-micro\">\n",
       "<div class=\"a-row a-size-base a-color-secondary s-align-children-center\"><span class=\"a-size-small a-color-secondary\" dir=\"auto\">Ships to India</span></div>\n",
       "</div>\n",
       "</div>\n",
       "</div>\n",
       "</div>\n",
       "</div>\n",
       "</span>\n",
       "</div></div>"
      ]
     },
     "metadata": {},
     "execution_count": 55
    }
   ],
   "source": [
    "sponsored_products[0]"
   ]
  },
  {
   "cell_type": "code",
   "execution_count": 56,
   "metadata": {},
   "outputs": [],
   "source": [
    "normal_products = class_found.find_all(\"div\", class_=\"sg-col-4-of-12 s-result-item s-asin sg-col-4-of-16 sg-col sg-col-4-of-20\")\n"
   ]
  },
  {
   "cell_type": "code",
   "execution_count": 57,
   "metadata": {},
   "outputs": [
    {
     "output_type": "execute_result",
     "data": {
      "text/plain": [
       "48"
      ]
     },
     "metadata": {},
     "execution_count": 57
    }
   ],
   "source": [
    "len(normal_products)"
   ]
  },
  {
   "cell_type": "code",
   "execution_count": 58,
   "metadata": {},
   "outputs": [
    {
     "output_type": "execute_result",
     "data": {
      "text/plain": [
       "<div class=\"sg-col-4-of-12 s-result-item s-asin sg-col-4-of-16 sg-col sg-col-4-of-20\" data-asin=\"B075ZXXM84\" data-cel-widget=\"search_result_1\" data-component-id=\"12\" data-component-type=\"s-search-result\" data-index=\"1\" data-uuid=\"9fc69b3a-4100-4592-ae44-2e3beeccb4f9\"><div class=\"sg-col-inner\">\n",
       "<span cel_widget_id=\"MAIN-SEARCH_RESULTS-1\" class=\"celwidget slot=MAIN template=SEARCH_RESULTS widgetId=search-results\" data-cel-widget=\"MAIN-SEARCH_RESULTS-1\" data-csa-c-id=\"65mojr-t91md5-dif0ry-2c656r\">\n",
       "<div class=\"s-expand-height s-include-content-margin s-border-bottom s-latency-cf-section\">\n",
       "<div class=\"a-section a-spacing-medium\">\n",
       "<div class=\"a-section a-spacing-micro s-grid-status-badge-container\">\n",
       "<span class=\"rush-component\" data-component-id=\"13\" data-component-props='{\"badgeType\":\"best-seller\",\"asin\":\"B075ZXXM84\"}' data-component-type=\"s-status-badge-component\">\n",
       "<div class=\"a-row a-badge-region\"><span aria-labelledby=\"B075ZXXM84-best-seller-label B075ZXXM84-best-seller-supplementary\" class=\"a-badge\" data-a-badge-supplementary-position=\"right\" data-a-badge-type=\"status\" id=\"B075ZXXM84-best-seller\" tabindex=\"0\"><span aria-hidden=\"true\" class=\"a-badge-label\" data-a-badge-color=\"sx-orange\" id=\"B075ZXXM84-best-seller-label\"><span class=\"a-badge-label-inner a-text-ellipsis\">\n",
       "<span class=\"a-badge-text\" data-a-badge-color=\"sx-cloud\">Best Seller</span>\n",
       "</span></span><span aria-hidden=\"true\" class=\"a-badge-supplementary-text a-text-ellipsis\" id=\"B075ZXXM84-best-seller-supplementary\">in Powder Baby Formula</span></span></div>\n",
       "</span>\n",
       "</div>\n",
       "<span class=\"rush-component\" data-component-id=\"14\" data-component-type=\"s-product-image\">\n",
       "<a class=\"a-link-normal s-no-outline\" href=\"/Similac-Pro-Advance-Non-GMO-Formula-One-Month/dp/B075ZXXM84/ref=sr_1_2?dchild=1&amp;keywords=baby+milk&amp;qid=1608626878&amp;sr=8-2\">\n",
       "<div class=\"a-section aok-relative s-image-square-aspect\">\n",
       "<img alt=\"Similac Pro-Advance Non-GMO Infant Formula with Iron, with 2’-FL HMO, for Immune Support, Baby Formula, Powder, (One-Month...\" class=\"s-image\" data-image-index=\"1\" data-image-latency=\"s-product-image\" data-image-load=\"\" data-image-source-density=\"1\" src=\"https://m.media-amazon.com/images/I/71z5zJWD33L._AC_UL320_.jpg\" srcset=\"https://m.media-amazon.com/images/I/71z5zJWD33L._AC_UL320_.jpg 1x, https://m.media-amazon.com/images/I/71z5zJWD33L._AC_UL480_FMwebp_QL65_.jpg 1.5x, https://m.media-amazon.com/images/I/71z5zJWD33L._AC_UL640_FMwebp_QL65_.jpg 2x, https://m.media-amazon.com/images/I/71z5zJWD33L._AC_UL800_FMwebp_QL65_.jpg 2.5x, https://m.media-amazon.com/images/I/71z5zJWD33L._AC_UL960_FMwebp_QL65_.jpg 3x\"/>\n",
       "</div>\n",
       "</a>\n",
       "</span>\n",
       "<div class=\"a-section a-spacing-none a-spacing-top-small\">\n",
       "<h2 class=\"a-size-mini a-spacing-none a-color-base s-line-clamp-4\">\n",
       "<a class=\"a-link-normal a-text-normal\" href=\"/Similac-Pro-Advance-Non-GMO-Formula-One-Month/dp/B075ZXXM84/ref=sr_1_2?dchild=1&amp;keywords=baby+milk&amp;qid=1608626878&amp;sr=8-2\">\n",
       "<span class=\"a-size-base-plus a-color-base a-text-normal\" dir=\"auto\">Similac Pro-Advance Non-GMO Infant Formula with Iron, with 2’-FL HMO, for Immune Support, Baby Formula, Powder, (One-Month Supply), 2.25 Pound (Pack of 3)</span>\n",
       "</a>\n",
       "</h2>\n",
       "<div class=\"a-row a-size-base a-color-secondary\"><div class=\"a-row a-spacing-top-micro a-color-base\"><span class=\"a-color-information a-text-bold\" dir=\"auto\">2.3 Pound (Pack of 3)</span></div></div>\n",
       "</div>\n",
       "<div class=\"a-section a-spacing-none a-spacing-top-micro\">\n",
       "<div class=\"a-row a-size-small\">\n",
       "<span aria-label=\"4.8 out of 5 stars\">\n",
       "<span class=\"a-declarative\" data-a-popover='{\"max-width\":\"700\",\"closeButton\":false,\"position\":\"triggerBottom\",\"url\":\"/review/widgets/average-customer-review/popover/ref=acr_search__popover?ie=UTF8&amp;asin=B075ZXXM84&amp;ref=acr_search__popover&amp;contextId=search\"}' data-action=\"a-popover\">\n",
       "<a class=\"a-popover-trigger a-declarative\" href=\"javascript:void(0)\"><i class=\"a-icon a-icon-star-small a-star-small-5 aok-align-bottom\"><span class=\"a-icon-alt\">4.8 out of 5 stars</span></i><i class=\"a-icon a-icon-popover\"></i></a>\n",
       "</span>\n",
       "</span>\n",
       "<span aria-label=\"3,911\">\n",
       "<a class=\"a-link-normal\" href=\"/Similac-Pro-Advance-Non-GMO-Formula-One-Month/dp/B075ZXXM84/ref=sr_1_2?dchild=1&amp;keywords=baby+milk&amp;qid=1608626878&amp;sr=8-2#customerReviews\">\n",
       "<span class=\"a-size-base\" dir=\"auto\">3,911</span>\n",
       "</a>\n",
       "</span>\n",
       "</div>\n",
       "</div>\n",
       "</div>\n",
       "</div>\n",
       "</span>\n",
       "</div></div>"
      ]
     },
     "metadata": {},
     "execution_count": 58
    }
   ],
   "source": [
    "normal_products[0]"
   ]
  },
  {
   "cell_type": "code",
   "execution_count": 59,
   "metadata": {},
   "outputs": [
    {
     "output_type": "execute_result",
     "data": {
      "text/plain": [
       "[]"
      ]
     },
     "metadata": {},
     "execution_count": 59
    }
   ],
   "source": [
    "normal_products[0].find_all(attrs={\"name\" : \"data-component-props\"})\n"
   ]
  },
  {
   "cell_type": "code",
   "execution_count": 60,
   "metadata": {},
   "outputs": [
    {
     "output_type": "execute_result",
     "data": {
      "text/plain": [
       "[<span class=\"rush-component\" data-component-id=\"13\" data-component-props='{\"badgeType\":\"best-seller\",\"asin\":\"B075ZXXM84\"}' data-component-type=\"s-status-badge-component\">\n",
       " <div class=\"a-row a-badge-region\"><span aria-labelledby=\"B075ZXXM84-best-seller-label B075ZXXM84-best-seller-supplementary\" class=\"a-badge\" data-a-badge-supplementary-position=\"right\" data-a-badge-type=\"status\" id=\"B075ZXXM84-best-seller\" tabindex=\"0\"><span aria-hidden=\"true\" class=\"a-badge-label\" data-a-badge-color=\"sx-orange\" id=\"B075ZXXM84-best-seller-label\"><span class=\"a-badge-label-inner a-text-ellipsis\">\n",
       " <span class=\"a-badge-text\" data-a-badge-color=\"sx-cloud\">Best Seller</span>\n",
       " </span></span><span aria-hidden=\"true\" class=\"a-badge-supplementary-text a-text-ellipsis\" id=\"B075ZXXM84-best-seller-supplementary\">in Powder Baby Formula</span></span></div>\n",
       " </span>,\n",
       " <span class=\"rush-component\" data-component-id=\"14\" data-component-type=\"s-product-image\">\n",
       " <a class=\"a-link-normal s-no-outline\" href=\"/Similac-Pro-Advance-Non-GMO-Formula-One-Month/dp/B075ZXXM84/ref=sr_1_2?dchild=1&amp;keywords=baby+milk&amp;qid=1608626878&amp;sr=8-2\">\n",
       " <div class=\"a-section aok-relative s-image-square-aspect\">\n",
       " <img alt=\"Similac Pro-Advance Non-GMO Infant Formula with Iron, with 2’-FL HMO, for Immune Support, Baby Formula, Powder, (One-Month...\" class=\"s-image\" data-image-index=\"1\" data-image-latency=\"s-product-image\" data-image-load=\"\" data-image-source-density=\"1\" src=\"https://m.media-amazon.com/images/I/71z5zJWD33L._AC_UL320_.jpg\" srcset=\"https://m.media-amazon.com/images/I/71z5zJWD33L._AC_UL320_.jpg 1x, https://m.media-amazon.com/images/I/71z5zJWD33L._AC_UL480_FMwebp_QL65_.jpg 1.5x, https://m.media-amazon.com/images/I/71z5zJWD33L._AC_UL640_FMwebp_QL65_.jpg 2x, https://m.media-amazon.com/images/I/71z5zJWD33L._AC_UL800_FMwebp_QL65_.jpg 2.5x, https://m.media-amazon.com/images/I/71z5zJWD33L._AC_UL960_FMwebp_QL65_.jpg 3x\"/>\n",
       " </div>\n",
       " </a>\n",
       " </span>]"
      ]
     },
     "metadata": {},
     "execution_count": 60
    }
   ],
   "source": [
    "normal_products[0].find_all(\"span\", class_=\"rush-component\")"
   ]
  },
  {
   "cell_type": "code",
   "execution_count": 61,
   "metadata": {},
   "outputs": [],
   "source": [
    "ss = \"\"\"<div class=\"sg-col-4-of-12 s-result-item s-asin sg-col-4-of-16 sg-col sg-col-4-of-20\" data-asin=\"B075ZXXM84\"\n",
    "    data-cel-widget=\"search_result_1\" data-component-id=\"14\" data-component-type=\"s-search-result\" data-index=\"1\"\n",
    "    data-uuid=\"d91507c9-ebbb-4f75-a310-21f9e89caeb1\">\n",
    "    <div class=\"sg-col-inner\">\n",
    "        <span cel_widget_id=\"MAIN-SEARCH_RESULTS-1\"\n",
    "            class=\"celwidget slot=MAIN template=SEARCH_RESULTS widgetId=search-results\"\n",
    "            data-cel-widget=\"MAIN-SEARCH_RESULTS-1\" data-csa-c-id=\"i4n6w6-rs10pi-ey6b8j-373q6c\">\n",
    "            <div class=\"s-expand-height s-include-content-margin s-border-bottom s-latency-cf-section\">\n",
    "                <div class=\"a-section a-spacing-medium\">\n",
    "                    <div class=\"a-section a-spacing-micro s-grid-status-badge-container\">\n",
    "                        <span class=\"rush-component\" data-component-id=\"15\"\n",
    "                            data-component-props='{\"badgeType\":\"best-seller\",\"asin\":\"B075ZXXM84\"}'\n",
    "                            data-component-type=\"s-status-badge-component\">\n",
    "                            <div class=\"a-row a-badge-region\"><span\n",
    "                                    aria-labelledby=\"B075ZXXM84-best-seller-label B075ZXXM84-best-seller-supplementary\"\n",
    "                                    class=\"a-badge\" data-a-badge-supplementary-position=\"right\"\n",
    "                                    data-a-badge-type=\"status\" id=\"B075ZXXM84-best-seller\" tabindex=\"0\"><span\n",
    "                                        aria-hidden=\"true\" class=\"a-badge-label\" data-a-badge-color=\"sx-orange\"\n",
    "                                        id=\"B075ZXXM84-best-seller-label\"><span\n",
    "                                            class=\"a-badge-label-inner a-text-ellipsis\">\n",
    "                                            <span class=\"a-badge-text\" data-a-badge-color=\"sx-cloud\">Best Seller</span>\n",
    "                                        </span></span><span aria-hidden=\"true\"\n",
    "                                        class=\"a-badge-supplementary-text a-text-ellipsis\"\n",
    "                                        id=\"B075ZXXM84-best-seller-supplementary\">in Powder Baby Formula</span></span>\n",
    "                            </div>\n",
    "                        </span>\n",
    "                    </div>\n",
    "                    <span class=\"rush-component\" data-component-id=\"16\" data-component-type=\"s-product-image\">\n",
    "                        <a class=\"a-link-normal s-no-outline\"\n",
    "                            href=\"/Similac-Pro-Advance-Non-GMO-Formula-One-Month/dp/B075ZXXM84/ref=sr_1_2?dchild=1&amp;keywords=baby+milk&amp;qid=1608613874&amp;sr=8-2\">\n",
    "                            <div class=\"a-section aok-relative s-image-square-aspect\">\n",
    "                                <img alt=\"Similac Pro-Advance Non-GMO Infant Formula with Iron, with 2’-FL HMO, for Immune Support, Baby Formula, Powder, (One-Month...\"\n",
    "                                    class=\"s-image\" data-image-index=\"1\" data-image-latency=\"s-product-image\"\n",
    "                                    data-image-load=\"\" data-image-source-density=\"1\"\n",
    "                                    src=\"https://m.media-amazon.com/images/I/71z5zJWD33L._AC_UL320_.jpg\"\n",
    "                                    srcset=\"https://m.media-amazon.com/images/I/71z5zJWD33L._AC_UL320_.jpg 1x, https://m.media-amazon.com/images/I/71z5zJWD33L._AC_UL480_FMwebp_QL65_.jpg 1.5x, https://m.media-amazon.com/images/I/71z5zJWD33L._AC_UL640_FMwebp_QL65_.jpg 2x, https://m.media-amazon.com/images/I/71z5zJWD33L._AC_UL800_FMwebp_QL65_.jpg 2.5x, https://m.media-amazon.com/images/I/71z5zJWD33L._AC_UL960_FMwebp_QL65_.jpg 3x\" />\n",
    "                            </div>\n",
    "                        </a>\n",
    "                    </span>\n",
    "                    <div class=\"a-section a-spacing-none a-spacing-top-small\">\n",
    "                        <h2 class=\"a-size-mini a-spacing-none a-color-base s-line-clamp-4\">\n",
    "                            <a class=\"a-link-normal a-text-normal\"\n",
    "                                href=\"/Similac-Pro-Advance-Non-GMO-Formula-One-Month/dp/B075ZXXM84/ref=sr_1_2?dchild=1&amp;keywords=baby+milk&amp;qid=1608613874&amp;sr=8-2\">\n",
    "                                <span class=\"a-size-base-plus a-color-base a-text-normal\" dir=\"auto\">Similac Pro-Advance\n",
    "                                    Non-GMO Infant Formula with Iron, with 2’-FL HMO, for Immune Support, Baby Formula,\n",
    "                                    Powder, (One-Month Supply), 2.25 Pound (Pack of 3)</span>\n",
    "                            </a>\n",
    "                        </h2>\n",
    "                        <div class=\"a-row a-size-base a-color-secondary\">\n",
    "                            <div class=\"a-row a-spacing-top-micro a-color-base\"><span\n",
    "                                    class=\"a-color-information a-text-bold\" dir=\"auto\">2.3 Pound (Pack of 3)</span>\n",
    "                            </div>\n",
    "                        </div>\n",
    "                    </div>\n",
    "                    <div class=\"a-section a-spacing-none a-spacing-top-micro\">\n",
    "                        <div class=\"a-row a-size-small\">\n",
    "                            <span aria-label=\"4.8 out of 5 stars\">\n",
    "                                <span class=\"a-declarative\"\n",
    "                                    data-a-popover='{\"max-width\":\"700\",\"closeButton\":false,\"position\":\"triggerBottom\",\"url\":\"/review/widgets/average-customer-review/popover/ref=acr_search__popover?ie=UTF8&amp;asin=B075ZXXM84&amp;ref=acr_search__popover&amp;contextId=search\"}'\n",
    "                                    data-action=\"a-popover\">\n",
    "                                    <a class=\"a-popover-trigger a-declarative\" href=\"javascript:void(0)\"><i\n",
    "                                            class=\"a-icon a-icon-star-small a-star-small-5 aok-align-bottom\"><span\n",
    "                                                class=\"a-icon-alt\">4.8 out of 5 stars</span></i><i\n",
    "                                            class=\"a-icon a-icon-popover\"></i></a>\n",
    "                                </span>\n",
    "                            </span>\n",
    "                            <span aria-label=\"3,911\">\n",
    "                                <a class=\"a-link-normal\"\n",
    "                                    href=\"/Similac-Pro-Advance-Non-GMO-Formula-One-Month/dp/B075ZXXM84/ref=sr_1_2?dchild=1&amp;keywords=baby+milk&amp;qid=1608613874&amp;sr=8-2#customerReviews\">\n",
    "                                    <span class=\"a-size-base\" dir=\"auto\">3,911</span>\n",
    "                                </a>\n",
    "                            </span>\n",
    "                        </div>\n",
    "                    </div>\n",
    "                </div>\n",
    "            </div>\n",
    "        </span>\n",
    "    </div>\n",
    "</div>\"\"\""
   ]
  },
  {
   "cell_type": "code",
   "execution_count": 62,
   "metadata": {},
   "outputs": [],
   "source": [
    "soup1 = bs4.BeautifulSoup(ss, \"lxml\")"
   ]
  },
  {
   "cell_type": "code",
   "execution_count": 63,
   "metadata": {},
   "outputs": [
    {
     "output_type": "execute_result",
     "data": {
      "text/plain": [
       "{'class': ['sg-col-4-of-12',\n",
       "  's-result-item',\n",
       "  's-asin',\n",
       "  'sg-col-4-of-16',\n",
       "  'sg-col',\n",
       "  'sg-col-4-of-20'],\n",
       " 'data-asin': 'B075ZXXM84',\n",
       " 'data-cel-widget': 'search_result_1',\n",
       " 'data-component-id': '14',\n",
       " 'data-component-type': 's-search-result',\n",
       " 'data-index': '1',\n",
       " 'data-uuid': 'd91507c9-ebbb-4f75-a310-21f9e89caeb1'}"
      ]
     },
     "metadata": {},
     "execution_count": 63
    }
   ],
   "source": [
    "soup1.find(\"div\", class_=\"sg-col-4-of-12 s-result-item s-asin sg-col-4-of-16 sg-col sg-col-4-of-20\").attrs"
   ]
  },
  {
   "source": [
    "### ASIN"
   ],
   "cell_type": "markdown",
   "metadata": {}
  },
  {
   "cell_type": "code",
   "execution_count": 64,
   "metadata": {},
   "outputs": [
    {
     "output_type": "execute_result",
     "data": {
      "text/plain": [
       "{'data-asin': 'B005JRGJ4A',\n",
       " 'data-index': '0',\n",
       " 'data-uuid': 'f3e2d4fd-9e42-4d80-bd91-bab09bc344bd',\n",
       " 'data-component-type': 's-search-result',\n",
       " 'class': ['sg-col-4-of-12',\n",
       "  's-result-item',\n",
       "  's-asin',\n",
       "  'sg-col-4-of-16',\n",
       "  'AdHolder',\n",
       "  'sg-col',\n",
       "  'sg-col-4-of-20'],\n",
       " 'data-cel-widget': 'search_result_0',\n",
       " 'data-component-id': '8'}"
      ]
     },
     "metadata": {},
     "execution_count": 64
    }
   ],
   "source": [
    "sponsored_products[0].attrs"
   ]
  },
  {
   "cell_type": "code",
   "execution_count": 65,
   "metadata": {},
   "outputs": [
    {
     "output_type": "execute_result",
     "data": {
      "text/plain": [
       "{'data-asin': 'B075ZXXM84',\n",
       " 'data-index': '1',\n",
       " 'data-uuid': '9fc69b3a-4100-4592-ae44-2e3beeccb4f9',\n",
       " 'data-component-type': 's-search-result',\n",
       " 'class': ['sg-col-4-of-12',\n",
       "  's-result-item',\n",
       "  's-asin',\n",
       "  'sg-col-4-of-16',\n",
       "  'sg-col',\n",
       "  'sg-col-4-of-20'],\n",
       " 'data-cel-widget': 'search_result_1',\n",
       " 'data-component-id': '12'}"
      ]
     },
     "metadata": {},
     "execution_count": 65
    }
   ],
   "source": [
    "normal_products[0].attrs"
   ]
  },
  {
   "source": [
    "### Product name/title"
   ],
   "cell_type": "markdown",
   "metadata": {}
  },
  {
   "cell_type": "code",
   "execution_count": 66,
   "metadata": {},
   "outputs": [
    {
     "output_type": "execute_result",
     "data": {
      "text/plain": [
       "'Gerber Good Start GentlePro, Prebiotics, Non-GMO Ready to Feed Infant Formula Stage 1, 8.45 Ounces (Pack of 24)'"
      ]
     },
     "metadata": {},
     "execution_count": 66
    }
   ],
   "source": [
    "sponsored_products[0].find(\"span\", class_=\"a-size-base-plus a-color-base a-text-normal\").text"
   ]
  },
  {
   "cell_type": "code",
   "execution_count": 67,
   "metadata": {},
   "outputs": [
    {
     "output_type": "execute_result",
     "data": {
      "text/plain": [
       "\"Similac Pro-Total Comfort Non-GMO with 2'-FL HMO Infant Formula with Iron, Easy-to-Digest, Gentle Formula, For Immune Support, Baby Formula 36 oz, 3 Count\""
      ]
     },
     "metadata": {},
     "execution_count": 67
    }
   ],
   "source": [
    "normal_products[10].find(\"span\", class_=\"a-size-base-plus a-color-base a-text-normal\").text"
   ]
  },
  {
   "source": [
    "### Price"
   ],
   "cell_type": "markdown",
   "metadata": {}
  },
  {
   "cell_type": "code",
   "execution_count": 68,
   "metadata": {},
   "outputs": [
    {
     "output_type": "execute_result",
     "data": {
      "text/plain": [
       "[<span class=\"a-price\" data-a-color=\"base\" data-a-size=\"l\"><span class=\"a-offscreen\">$52.74</span><span aria-hidden=\"true\"><span class=\"a-price-symbol\">$</span><span class=\"a-price-whole\">52<span class=\"a-price-decimal\">.</span></span><span class=\"a-price-fraction\">74</span></span></span>]"
      ]
     },
     "metadata": {},
     "execution_count": 68
    }
   ],
   "source": [
    "sponsored_products[0].find_all(\"span\", class_=\"a-price\")"
   ]
  },
  {
   "cell_type": "code",
   "execution_count": 69,
   "metadata": {},
   "outputs": [
    {
     "output_type": "stream",
     "name": "stdout",
     "text": [
      "['$52.74$52.74']\n['$14.99$14.99']\n['$26.90$26.90']\n['$133.98$133.98']\n['$105.56$105.56']\n['$29.90$29.90']\n['$36.48$36.48']\n['$6.99$6.99']\n['$8.99$8.99']\n['$14.97$14.97', '$17.97$17.97']\n['$7.99$7.99', '$10.99$10.99']\n['$6.99$6.99']\n"
     ]
    }
   ],
   "source": [
    "for p in sponsored_products:\n",
    "    # print(getattr(p.find(\"span\", class_=\"a-price\"), \"text\", None), p.find(\"span\", class_=\"a-price\"))\n",
    "\n",
    "    print(list(map (lambda x: getattr(x, \"text\", None), p.find_all(\"span\", class_=\"a-price\"))))"
   ]
  },
  {
   "cell_type": "code",
   "execution_count": 70,
   "metadata": {},
   "outputs": [
    {
     "output_type": "stream",
     "name": "stdout",
     "text": [
      "[]\n[]\n[]\n[]\n[]\n[]\n[]\n[]\n[]\n[]\n[]\n['$29.99$29.99']\n[]\n[]\n[]\n[]\n[]\n[]\n[]\n[]\n[]\n[]\n[]\n['$52.74$52.74']\n[]\n[]\n['$22.34$22.34', '$24.98$24.98']\n['$19.98$19.98']\n['$24.95$24.95']\n[]\n[]\n['$39.99$39.99']\n[]\n['$22.33$22.33', '$24.98$24.98']\n['$37.99$37.99', '$40.72$40.72']\n[]\n['$69.99$69.99']\n[]\n[]\n[]\n[]\n[]\n['$6.99$6.99']\n[]\n[]\n[]\n['$12.99$12.99']\n['$133.98$133.98']\n"
     ]
    }
   ],
   "source": [
    "for p in normal_products:\n",
    "    # print(getattr(p.find(\"span\", class_=\"a-price\"), \"text\", None), p.find(\"span\", class_=\"a-price\"))\n",
    "\n",
    "    print(list(map (lambda x: getattr(x, \"text\", None), p.find_all(\"span\", class_=\"a-price\"))))"
   ]
  },
  {
   "source": [
    "### Review Count"
   ],
   "cell_type": "markdown",
   "metadata": {}
  },
  {
   "cell_type": "code",
   "execution_count": 71,
   "metadata": {},
   "outputs": [
    {
     "output_type": "execute_result",
     "data": {
      "text/plain": [
       "<span class=\"a-size-base\" dir=\"auto\">3,911</span>"
      ]
     },
     "metadata": {},
     "execution_count": 71
    }
   ],
   "source": [
    "normal_products[0].find(\"span\", class_=\"a-size-base\")"
   ]
  },
  {
   "cell_type": "code",
   "execution_count": 72,
   "metadata": {},
   "outputs": [
    {
     "output_type": "execute_result",
     "data": {
      "text/plain": [
       "<span class=\"a-size-base\" dir=\"auto\">519</span>"
      ]
     },
     "metadata": {},
     "execution_count": 72
    }
   ],
   "source": [
    "sponsored_products[1].find(\"span\", class_=\"a-size-base\")"
   ]
  },
  {
   "cell_type": "code",
   "execution_count": 73,
   "metadata": {},
   "outputs": [
    {
     "output_type": "stream",
     "name": "stdout",
     "text": [
      "['3,911']\n['2,934']\n['973']\n['1,063']\n['2,964']\n['1,218']\n['1,082']\n['317']\n['559']\n['1,040']\n['1,116']\n['1,018', '($1.43/Ounce)']\n['937']\n['501']\n['602']\n['791']\n['779']\n['1,510']\n['1,298']\n['794']\n['359']\n['2,427']\n['993']\n['483', '($0.26/Fl Oz)']\n['665']\n['490']\n['574', '($1.12/Ounce)']\n['96', '($1.00/Ounce)']\n['802', '($5.67/Ounce)', 'More Buying Choices']\n['622']\n['667']\n['9,478', 'More Buying Choices']\n['291']\n['620', '($1.12/Ounce)']\n['726', '($1.09/Ounce)']\n['464']\n['810', 'More Buying Choices']\n['397']\n['58']\n['1,144']\n['615']\n['121']\n['17,626', '\\n    Save $2.10\\n']\n['232']\n['89']\n['864']\n['61', '($1.04/Ounce)']\n['325', '($1.12/Ounce)']\n"
     ]
    }
   ],
   "source": [
    "for p in normal_products:\n",
    "    # print(getattr(p.find(\"span\", class_=\"a-price\"), \"text\", None), p.find(\"span\", class_=\"a-size-base\"))\n",
    "\n",
    "    print(list(map (lambda x: getattr(x, \"text\", None), p.find_all(\"span\", class_=\"a-size-base\"))))"
   ]
  },
  {
   "cell_type": "code",
   "execution_count": 74,
   "metadata": {},
   "outputs": [
    {
     "output_type": "stream",
     "name": "stdout",
     "text": [
      "['483', '($0.26/Fl Oz)']\n['519']\n[]\n['325', '($1.12/Ounce)']\n['195', '($1.08/Ounce)']\n[]\n['905', '($1.14/Ounce)']\n['248']\n['1']\n['208', '($5.99/Ounce)', '\\n                Climate Pledge Friendly\\n            ', 'See 1 certification', 'We’ve made it easier to discover products with sustainability certifications, as part of our commitment to help preserve the natural world. Time is fleeting.', 'PRODUCT CERTIFICATION (1)']\n['3,688']\n['65', '\\n    Save $1.00\\n']\n"
     ]
    }
   ],
   "source": [
    "for p in sponsored_products:\n",
    "    # print(getattr(p.find(\"span\", class_=\"a-price\"), \"text\", None), p.find(\"span\", class_=\"a-size-base\"))\n",
    "\n",
    "    print(list(map (lambda x: getattr(x, \"text\", None), p.find_all(\"span\", class_=\"a-size-base\"))))"
   ]
  },
  {
   "source": [
    "### Rating"
   ],
   "cell_type": "markdown",
   "metadata": {}
  },
  {
   "cell_type": "code",
   "execution_count": 77,
   "metadata": {},
   "outputs": [
    {
     "output_type": "execute_result",
     "data": {
      "text/plain": [
       "'4.6 out of 5 stars'"
      ]
     },
     "metadata": {},
     "execution_count": 77
    }
   ],
   "source": [
    "\n",
    "sponsored_products[10].find_all(\"i\", class_=\"a-icon a-icon-star-small a-star-small-4-5 aok-align-bottom\")[0].text"
   ]
  },
  {
   "cell_type": "code",
   "execution_count": 78,
   "metadata": {},
   "outputs": [
    {
     "output_type": "execute_result",
     "data": {
      "text/plain": [
       "'4.7 out of 5 stars'"
      ]
     },
     "metadata": {},
     "execution_count": 78
    }
   ],
   "source": [
    "normal_products[10].find_all(\"i\", class_=\"a-icon a-icon-star-small a-star-small-4-5 aok-align-bottom\")[0].text"
   ]
  },
  {
   "cell_type": "code",
   "execution_count": 80,
   "metadata": {},
   "outputs": [
    {
     "output_type": "stream",
     "name": "stdout",
     "text": [
      "[]\n['4.5 out of 5 stars']\n[]\n[]\n[]\n[]\n[]\n['4.5 out of 5 stars']\n[]\n['4.5 out of 5 stars']\n['4.6 out of 5 stars']\n['4.5 out of 5 stars']\n"
     ]
    }
   ],
   "source": [
    "for p in sponsored_products:\n",
    "    # print(getattr(p.find(\"span\", class_=\"a-price\"), \"text\", None), p.find(\"i\", class_=\"a-icon a-icon-star-small a-star-small-4-5 aok-align-bottom\"))\n",
    "\n",
    "    print(list(map (lambda x: getattr(x, \"text\", None), p.find_all(\"i\", class_=\"a-icon a-icon-star-small a-star-small-4-5 aok-align-bottom\"))))"
   ]
  },
  {
   "cell_type": "code",
   "execution_count": 81,
   "metadata": {},
   "outputs": [
    {
     "output_type": "stream",
     "name": "stdout",
     "text": [
      "[]\n",
      "[]\n",
      "[]\n",
      "[]\n",
      "[]\n",
      "[]\n",
      "[]\n",
      "['4.7 out of 5 stars']\n",
      "[]\n",
      "['4.7 out of 5 stars']\n",
      "['4.7 out of 5 stars']\n",
      "['4.6 out of 5 stars']\n",
      "[]\n",
      "['4.6 out of 5 stars']\n",
      "[]\n",
      "[]\n",
      "['4.5 out of 5 stars']\n",
      "['4.6 out of 5 stars']\n",
      "[]\n",
      "[]\n",
      "[]\n",
      "[]\n",
      "['4.6 out of 5 stars']\n",
      "[]\n",
      "[]\n",
      "['4.6 out of 5 stars']\n",
      "[]\n",
      "['4.6 out of 5 stars']\n",
      "['4.4 out of 5 stars']\n",
      "[]\n",
      "[]\n",
      "['4.5 out of 5 stars']\n",
      "['4.7 out of 5 stars']\n",
      "['4.7 out of 5 stars']\n",
      "['4.7 out of 5 stars']\n",
      "['4.6 out of 5 stars']\n",
      "['4.6 out of 5 stars']\n",
      "[]\n",
      "['4.6 out of 5 stars']\n",
      "[]\n",
      "['4.7 out of 5 stars']\n",
      "[]\n",
      "['4.7 out of 5 stars']\n",
      "['4.7 out of 5 stars']\n",
      "['4.4 out of 5 stars']\n",
      "[]\n",
      "['4.3 out of 5 stars']\n",
      "[]\n"
     ]
    }
   ],
   "source": [
    "for p in normal_products:\n",
    "    # print(getattr(p.find(\"span\", class_=\"a-price\"), \"text\", None), p.find(\"i\", class_=\"a-icon a-icon-star-small a-star-small-4-5 aok-align-bottom\"))\n",
    "\n",
    "    print(list(map (lambda x: getattr(x, \"text\", None), p.find_all(\"i\", class_=\"a-icon a-icon-star-small a-star-small-4-5 aok-align-bottom\"))))"
   ]
  },
  {
   "source": [
    "### Pagination"
   ],
   "cell_type": "markdown",
   "metadata": {}
  },
  {
   "cell_type": "code",
   "execution_count": 87,
   "metadata": {},
   "outputs": [
    {
     "output_type": "execute_result",
     "data": {
      "text/plain": [
       "[<li class=\"a-normal\"><a href=\"/s?k=baby+milk&amp;page=2&amp;qid=1608626878&amp;ref=sr_pg_2\">2</a></li>]"
      ]
     },
     "metadata": {},
     "execution_count": 87
    }
   ],
   "source": [
    "page_links = [url_link for url_link in (link.find(\"li\", class_=\"a-normal\") for link in soup.find_all(\"ul\", class_=\"a-pagination\")) if url_link]\n",
    "page_links"
   ]
  },
  {
   "cell_type": "code",
   "execution_count": 88,
   "metadata": {},
   "outputs": [
    {
     "output_type": "execute_result",
     "data": {
      "text/plain": [
       "[<li class=\"a-normal\"><a href=\"/s?k=baby+milk&amp;page=2&amp;qid=1608626878&amp;ref=sr_pg_2\">2</a></li>]"
      ]
     },
     "metadata": {},
     "execution_count": 88
    }
   ],
   "source": [
    " [link.find(\"li\", class_=\"a-normal\") for link in soup.find_all(\"ul\", class_=\"a-pagination\")]"
   ]
  },
  {
   "cell_type": "code",
   "execution_count": 101,
   "metadata": {},
   "outputs": [
    {
     "output_type": "execute_result",
     "data": {
      "text/plain": [
       "<ul class=\"a-pagination\"><li class=\"a-disabled\">←<span class=\"a-letter-space\"></span><span class=\"a-letter-space\"></span>Previous</li>\n",
       "<li class=\"a-selected\"><a aria-current=\"page\" href=\"/s?k=baby+milk&amp;qid=1608626878&amp;ref=sr_pg_1\">1</a></li>\n",
       "<li class=\"a-normal\"><a href=\"/s?k=baby+milk&amp;page=2&amp;qid=1608626878&amp;ref=sr_pg_2\">2</a></li>\n",
       "<li class=\"a-normal\"><a href=\"/s?k=baby+milk&amp;page=3&amp;qid=1608626878&amp;ref=sr_pg_3\">3</a></li>\n",
       "<li class=\"a-normal\"><a href=\"/s?k=baby+milk&amp;page=4&amp;qid=1608626878&amp;ref=sr_pg_4\">4</a></li>\n",
       "<li class=\"a-normal\"><a href=\"/s?k=baby+milk&amp;page=5&amp;qid=1608626878&amp;ref=sr_pg_5\">5</a></li>\n",
       "<li class=\"a-last\"><a href=\"/s?k=baby+milk&amp;page=2&amp;qid=1608626878&amp;ref=sr_pg_1\">Next<span class=\"a-letter-space\"></span><span class=\"a-letter-space\"></span>→</a></li></ul>"
      ]
     },
     "metadata": {},
     "execution_count": 101
    }
   ],
   "source": [
    "soup.find(\"ul\", class_=\"a-pagination\")"
   ]
  },
  {
   "cell_type": "code",
   "execution_count": 104,
   "metadata": {},
   "outputs": [
    {
     "output_type": "stream",
     "name": "stdout",
     "text": [
      "{'href': '/s?k=baby+milk&page=2&qid=1608626878&ref=sr_pg_2'}\n\n{'href': '/s?k=baby+milk&page=3&qid=1608626878&ref=sr_pg_3'}\n\n{'href': '/s?k=baby+milk&page=4&qid=1608626878&ref=sr_pg_4'}\n\n{'href': '/s?k=baby+milk&page=5&qid=1608626878&ref=sr_pg_5'}\n\n{'href': '/s?k=baby+milk&page=2&qid=1608626878&ref=sr_pg_1'}\n\n"
     ]
    }
   ],
   "source": [
    " for link in soup.find(\"ul\", class_=\"a-pagination\").find_all(\"li\", class_=[\"a-normal\", \"a-last\"]):\n",
    "     print(link.find(\"a\").attrs)\n",
    "     print()"
   ]
  },
  {
   "cell_type": "code",
   "execution_count": 103,
   "metadata": {},
   "outputs": [
    {
     "output_type": "execute_result",
     "data": {
      "text/plain": [
       "1"
      ]
     },
     "metadata": {},
     "execution_count": 103
    }
   ],
   "source": [
    "len(soup.find_all(\"ul\", class_=\"a-pagination\"))"
   ]
  },
  {
   "cell_type": "code",
   "execution_count": 105,
   "metadata": {},
   "outputs": [
    {
     "output_type": "stream",
     "name": "stdout",
     "text": [
      "{'href': '/s?k=baby+milk&page=2&qid=1608626878&ref=sr_pg_1'}\n\n"
     ]
    }
   ],
   "source": [
    " for link in soup.find(\"ul\", class_=\"a-pagination\").find_all(\"li\", class_=[\"a-last\"]):\n",
    "     print(link.find(\"a\").attrs)\n",
    "     print()\n",
    "\n"
   ]
  },
  {
   "cell_type": "code",
   "execution_count": 112,
   "metadata": {},
   "outputs": [],
   "source": [
    "def parse_data(file_path):\n",
    "    with open(file_path, \"r\", encoding=\"utf-8\") as f:\n",
    "        file_data = f.read()\n",
    "    \n",
    "    soup = bs4.BeautifulSoup(file_data, \"lxml\")\n",
    "\n",
    "    products = []\n",
    "\n",
    "    main_result_class = \"s-main-slot s-result-list s-search-results sg-row\"\n",
    "    sponsored_products_class = \"sg-col-4-of-12 s-result-item s-asin sg-col-4-of-16 AdHolder sg-col sg-col-4-of-20\"\n",
    "    normal_products_class = \"sg-col-4-of-12 s-result-item s-asin sg-col-4-of-16 sg-col sg-col-4-of-20\"\n",
    "\n",
    "    product_name_class = \"a-size-base-plus a-color-base a-text-normal\"\n",
    "    price_class = \"a-price\"\n",
    "    review_count_class = \"a-size-base\"\n",
    "    rating_class = \"a-icon a-icon-star-small a-star-small-4-5 aok-align-bottom\"\n",
    "\n",
    "    products_found = soup.find(\"div\", class_=main_result_class)\n",
    "    if products_found:\n",
    "        sponsored_products = class_found.find_all(\"div\", class_=sponsored_products_class)\n",
    "        normal_products = class_found.find_all(\"div\", class_=normal_products_class)\n",
    "\n",
    "        for sponsored_product in sponsored_products:\n",
    "            products.append(\n",
    "                {\n",
    "                    \"asin\": sponsored_product.attrs.get(\"data-asin\", None),\n",
    "                    \"product_name\": getattr(sponsored_product.find(\"span\", class_=product_name_class), \"text\", None),\n",
    "                    \"price\": getattr(sponsored_product.find(\"span\", class_=price_class), \"text\", None),\n",
    "                    \"sponsored\": True,\n",
    "                    \"review_count\": getattr(sponsored_product.find(\"span\", class_=review_count_class), \"text\", None),\n",
    "                    \"average_ratings\": getattr(sponsored_product.find(\"i\", class_=rating_class), \"text\", None),\n",
    "\n",
    "                }\n",
    "            )\n",
    "\n",
    "        for sponsored_product in normal_products:\n",
    "            products.append(\n",
    "                {\n",
    "                    \"asin\": sponsored_product.attrs.get(\"data-asin\", None),\n",
    "                    \"product_name\": getattr(sponsored_product.find(\"span\", class_=product_name_class), \"text\", None),\n",
    "                    \"price\": getattr(sponsored_product.find(\"span\", class_=price_class), \"text\", None),\n",
    "                    \"sponsored\": False,\n",
    "                    \"review_count\": getattr(sponsored_product.find(\"span\", class_=review_count_class), \"text\", None),\n",
    "                    \"average_ratings\": getattr(sponsored_product.find(\"i\", class_=rating_class), \"text\", None),\n",
    "\n",
    "                }\n",
    "            )\n",
    "\n",
    "            return products"
   ]
  },
  {
   "cell_type": "code",
   "execution_count": 113,
   "metadata": {},
   "outputs": [
    {
     "output_type": "execute_result",
     "data": {
      "text/plain": [
       "[{'asin': 'B005JRGJ4A',\n",
       "  'product_name': 'Gerber Good Start GentlePro, Prebiotics, Non-GMO Ready to Feed Infant Formula Stage 1, 8.45 Ounces (Pack of 24)',\n",
       "  'price': '$52.74$52.74',\n",
       "  'sponsored': True,\n",
       "  'review_count': '483',\n",
       "  'average_ratings': None},\n",
       " {'asin': 'B07WHZQCM1',\n",
       "  'product_name': \"Dr. Brown's Silicone Breast Pump Breast Milk Catcher with Options+ Anti-Colic Baby Bottle & Travel Bag\",\n",
       "  'price': '$14.99$14.99',\n",
       "  'sponsored': True,\n",
       "  'review_count': '519',\n",
       "  'average_ratings': '4.5 out of 5 stars'},\n",
       " {'asin': 'B07FYSV3FG',\n",
       "  'product_name': 'IKARE Bottle Warmer for Baby Milk, Steam Steri-lizer 8 in 1 Fast Food and Formula Heater, Bottle Thermostat Warmer with LCD-Display & Timer, Auto Shut-Off Safety, Fits All Baby Bottles',\n",
       "  'price': '$26.90$26.90',\n",
       "  'sponsored': True,\n",
       "  'review_count': None,\n",
       "  'average_ratings': None},\n",
       " {'asin': 'B07N4LL847',\n",
       "  'product_name': 'Gerber Good Start Gentle (HMO) Non-GMO Powder Infant Formula, Stage 1, 20 Ounce (Pack of 6)',\n",
       "  'price': '$133.98$133.98',\n",
       "  'sponsored': True,\n",
       "  'review_count': '325',\n",
       "  'average_ratings': None},\n",
       " {'asin': 'B07N4Q7R65',\n",
       "  'product_name': 'Gerber Good Start Gentle (HMO) Non-GMO Powder Infant Formula, Stage 2, 24.5 Ounces (Pack of 4)',\n",
       "  'price': '$105.56$105.56',\n",
       "  'sponsored': True,\n",
       "  'review_count': '195',\n",
       "  'average_ratings': None},\n",
       " {'asin': 'B08JGYRVSV',\n",
       "  'product_name': 'IKARE Baby Bottle Warmer for Breastmilk & Formula, Steam Steri-lizer 8 in 1 Baby Food Heater with Timer, Bottle Thermostat Warmer with LCD-Display, Fits Most Baby Bottles for Breast Milk and Formula',\n",
       "  'price': '$29.90$29.90',\n",
       "  'sponsored': True,\n",
       "  'review_count': None,\n",
       "  'average_ratings': None},\n",
       " {'asin': 'B07N8RZRR7',\n",
       "  'product_name': 'Gerber Good Start GentlePro (HMO) Non-GMO Powder Infant Formula, Stage 1, 32 Ounce',\n",
       "  'price': '$36.48$36.48',\n",
       "  'sponsored': True,\n",
       "  'review_count': '905',\n",
       "  'average_ratings': None},\n",
       " {'asin': 'B083WJ7QZ4',\n",
       "  'product_name': 'Baby Formula Dispenser, Portable Milk Powder Dispenser Snack Storage Container for Travel Bedroom Outdoor … (Green)',\n",
       "  'price': '$6.99$6.99',\n",
       "  'sponsored': True,\n",
       "  'review_count': '248',\n",
       "  'average_ratings': '4.5 out of 5 stars'},\n",
       " {'asin': 'B08JZ28CGW',\n",
       "  'product_name': 'Manual Breast Pump Breastfeeding Pump with White lid, 150 Milk Storage Bag,Silk Carrying Bag, 1 Pack,3oz/90ml',\n",
       "  'price': '$8.99$8.99',\n",
       "  'sponsored': True,\n",
       "  'review_count': '1',\n",
       "  'average_ratings': None},\n",
       " {'asin': 'B01M9DH0MZ',\n",
       "  'product_name': 'Baby Powder, Talc Free Baby Powder, Natural Vanilla Amber, Corn Free Baby Powder, Ora’s Amazing Herbal',\n",
       "  'price': '$14.97$14.97',\n",
       "  'sponsored': True,\n",
       "  'review_count': '208',\n",
       "  'average_ratings': '4.5 out of 5 stars'},\n",
       " {'asin': 'B07GDCQH38',\n",
       "  'product_name': 'Exquisite Buggy My Sweet Baby Disappearing Magic Bottles - Includes 1 Milk, 1 Juice Bottle with Pacifier for Baby Doll (Colorful)',\n",
       "  'price': '$7.99$7.99',\n",
       "  'sponsored': True,\n",
       "  'review_count': '3,688',\n",
       "  'average_ratings': '4.6 out of 5 stars'},\n",
       " {'asin': 'B08DKLMTD4',\n",
       "  'product_name': 'LANEYLI Formula Dispenser with Scoop Portable Baby Milk Powder Formula Container Snack Cup for Home Travel Outdoor Activities Pink 1 Pack',\n",
       "  'price': '$6.99$6.99',\n",
       "  'sponsored': True,\n",
       "  'review_count': '65',\n",
       "  'average_ratings': '4.5 out of 5 stars'},\n",
       " {'asin': 'B075ZXXM84',\n",
       "  'product_name': 'Similac Pro-Advance Non-GMO Infant Formula with Iron, with 2’-FL HMO, for Immune Support, Baby Formula, Powder, (One-Month Supply), 2.25 Pound (Pack of 3)',\n",
       "  'price': None,\n",
       "  'sponsored': False,\n",
       "  'review_count': '3,911',\n",
       "  'average_ratings': None}]"
      ]
     },
     "metadata": {},
     "execution_count": 113
    }
   ],
   "source": [
    "parse_data(file_path=\"webpage.html\")"
   ]
  },
  {
   "cell_type": "code",
   "execution_count": null,
   "metadata": {},
   "outputs": [],
   "source": []
  }
 ]
}